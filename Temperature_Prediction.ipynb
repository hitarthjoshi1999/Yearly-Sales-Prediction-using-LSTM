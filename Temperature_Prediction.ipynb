{
  "nbformat": 4,
  "nbformat_minor": 0,
  "metadata": {
    "colab": {
      "name": "Temperature Prediction.ipynb",
      "provenance": [],
      "collapsed_sections": []
    },
    "kernelspec": {
      "name": "python3",
      "display_name": "Python 3"
    }
  },
  "cells": [
    {
      "cell_type": "code",
      "metadata": {
        "id": "QtJBBsbxq2P0",
        "colab_type": "code",
        "colab": {}
      },
      "source": [
        "import pandas as pd\n",
        "import numpy as np\n",
        "\n",
        "%matplotlib inline\n",
        "import matplotlib.pyplot as plt\n",
        "import datetime"
      ],
      "execution_count": 0,
      "outputs": []
    },
    {
      "cell_type": "code",
      "metadata": {
        "id": "15pQ3U2srGrD",
        "colab_type": "code",
        "colab": {}
      },
      "source": [
        "df = pd.read_csv('/content/drive/My Drive/Colab Notebooks/dataexport_20200401T140233.csv',infer_datetime_format=True)"
      ],
      "execution_count": 0,
      "outputs": []
    },
    {
      "cell_type": "code",
      "metadata": {
        "id": "-UX8ZANFrV2Z",
        "colab_type": "code",
        "outputId": "a6268619-fc17-41ff-b001-a8c61d353986",
        "colab": {
          "base_uri": "https://localhost:8080/",
          "height": 343
        }
      },
      "source": [
        "df.head(10)"
      ],
      "execution_count": 172,
      "outputs": [
        {
          "output_type": "execute_result",
          "data": {
            "text/html": [
              "<div>\n",
              "<style scoped>\n",
              "    .dataframe tbody tr th:only-of-type {\n",
              "        vertical-align: middle;\n",
              "    }\n",
              "\n",
              "    .dataframe tbody tr th {\n",
              "        vertical-align: top;\n",
              "    }\n",
              "\n",
              "    .dataframe thead th {\n",
              "        text-align: right;\n",
              "    }\n",
              "</style>\n",
              "<table border=\"1\" class=\"dataframe\">\n",
              "  <thead>\n",
              "    <tr style=\"text-align: right;\">\n",
              "      <th></th>\n",
              "      <th>location</th>\n",
              "      <th>Basel</th>\n",
              "      <th>Basel.1</th>\n",
              "      <th>Basel.2</th>\n",
              "      <th>Basel.3</th>\n",
              "    </tr>\n",
              "  </thead>\n",
              "  <tbody>\n",
              "    <tr>\n",
              "      <th>0</th>\n",
              "      <td>lat</td>\n",
              "      <td>47.54694</td>\n",
              "      <td>47.54694</td>\n",
              "      <td>47.54694</td>\n",
              "      <td>47.54694</td>\n",
              "    </tr>\n",
              "    <tr>\n",
              "      <th>1</th>\n",
              "      <td>lon</td>\n",
              "      <td>7.56892</td>\n",
              "      <td>7.56892</td>\n",
              "      <td>7.56892</td>\n",
              "      <td>7.56892</td>\n",
              "    </tr>\n",
              "    <tr>\n",
              "      <th>2</th>\n",
              "      <td>asl</td>\n",
              "      <td>283.697</td>\n",
              "      <td>283.697</td>\n",
              "      <td>283.697</td>\n",
              "      <td>283.697</td>\n",
              "    </tr>\n",
              "    <tr>\n",
              "      <th>3</th>\n",
              "      <td>variable</td>\n",
              "      <td>Temperature</td>\n",
              "      <td>Precipitation Total</td>\n",
              "      <td>Wind Speed</td>\n",
              "      <td>Wind Direction</td>\n",
              "    </tr>\n",
              "    <tr>\n",
              "      <th>4</th>\n",
              "      <td>unit</td>\n",
              "      <td>°C</td>\n",
              "      <td>mm</td>\n",
              "      <td>km/h</td>\n",
              "      <td>°</td>\n",
              "    </tr>\n",
              "    <tr>\n",
              "      <th>5</th>\n",
              "      <td>level</td>\n",
              "      <td>2 m elevation corrected</td>\n",
              "      <td>sfc</td>\n",
              "      <td>10 m</td>\n",
              "      <td>10 m</td>\n",
              "    </tr>\n",
              "    <tr>\n",
              "      <th>6</th>\n",
              "      <td>resolution</td>\n",
              "      <td>hourly</td>\n",
              "      <td>hourly</td>\n",
              "      <td>hourly</td>\n",
              "      <td>hourly</td>\n",
              "    </tr>\n",
              "    <tr>\n",
              "      <th>7</th>\n",
              "      <td>aggregation</td>\n",
              "      <td>None</td>\n",
              "      <td>None</td>\n",
              "      <td>None</td>\n",
              "      <td>None</td>\n",
              "    </tr>\n",
              "    <tr>\n",
              "      <th>8</th>\n",
              "      <td>timestamp</td>\n",
              "      <td>Basel Temperature [2 m elevation corrected]</td>\n",
              "      <td>Basel Precipitation Total</td>\n",
              "      <td>Basel Wind Speed [10 m]</td>\n",
              "      <td>Basel Wind Direction [10 m]</td>\n",
              "    </tr>\n",
              "    <tr>\n",
              "      <th>9</th>\n",
              "      <td>20190201T0000</td>\n",
              "      <td>3.3305285</td>\n",
              "      <td>0.0</td>\n",
              "      <td>25.364021</td>\n",
              "      <td>126.027374</td>\n",
              "    </tr>\n",
              "  </tbody>\n",
              "</table>\n",
              "</div>"
            ],
            "text/plain": [
              "        location  ...                      Basel.3\n",
              "0            lat  ...                     47.54694\n",
              "1            lon  ...                      7.56892\n",
              "2            asl  ...                      283.697\n",
              "3       variable  ...               Wind Direction\n",
              "4           unit  ...                            °\n",
              "5          level  ...                         10 m\n",
              "6     resolution  ...                       hourly\n",
              "7    aggregation  ...                         None\n",
              "8      timestamp  ...  Basel Wind Direction [10 m]\n",
              "9  20190201T0000  ...                   126.027374\n",
              "\n",
              "[10 rows x 5 columns]"
            ]
          },
          "metadata": {
            "tags": []
          },
          "execution_count": 172
        }
      ]
    },
    {
      "cell_type": "code",
      "metadata": {
        "id": "rb-cBUL3rpHi",
        "colab_type": "code",
        "colab": {}
      },
      "source": [
        "df= df.iloc[9:]"
      ],
      "execution_count": 0,
      "outputs": []
    },
    {
      "cell_type": "code",
      "metadata": {
        "id": "V4xrWH4brt7J",
        "colab_type": "code",
        "colab": {}
      },
      "source": [
        "df.columns = [\"Timestamp\",\"Temperature\",\"Precipitation\",\"Wind_Speed\",\"Wind_Direction\"]"
      ],
      "execution_count": 0,
      "outputs": []
    },
    {
      "cell_type": "code",
      "metadata": {
        "id": "LeX9O_cirzCd",
        "colab_type": "code",
        "outputId": "05f7549c-e1e9-4520-e99d-c27fbf157d98",
        "colab": {
          "base_uri": "https://localhost:8080/",
          "height": 402
        }
      },
      "source": [
        "df"
      ],
      "execution_count": 175,
      "outputs": [
        {
          "output_type": "execute_result",
          "data": {
            "text/html": [
              "<div>\n",
              "<style scoped>\n",
              "    .dataframe tbody tr th:only-of-type {\n",
              "        vertical-align: middle;\n",
              "    }\n",
              "\n",
              "    .dataframe tbody tr th {\n",
              "        vertical-align: top;\n",
              "    }\n",
              "\n",
              "    .dataframe thead th {\n",
              "        text-align: right;\n",
              "    }\n",
              "</style>\n",
              "<table border=\"1\" class=\"dataframe\">\n",
              "  <thead>\n",
              "    <tr style=\"text-align: right;\">\n",
              "      <th></th>\n",
              "      <th>Timestamp</th>\n",
              "      <th>Temperature</th>\n",
              "      <th>Precipitation</th>\n",
              "      <th>Wind_Speed</th>\n",
              "      <th>Wind_Direction</th>\n",
              "    </tr>\n",
              "  </thead>\n",
              "  <tbody>\n",
              "    <tr>\n",
              "      <th>9</th>\n",
              "      <td>20190201T0000</td>\n",
              "      <td>3.3305285</td>\n",
              "      <td>0.0</td>\n",
              "      <td>25.364021</td>\n",
              "      <td>126.027374</td>\n",
              "    </tr>\n",
              "    <tr>\n",
              "      <th>10</th>\n",
              "      <td>20190201T0100</td>\n",
              "      <td>4.4105287</td>\n",
              "      <td>0.0</td>\n",
              "      <td>18.015022</td>\n",
              "      <td>156.46765</td>\n",
              "    </tr>\n",
              "    <tr>\n",
              "      <th>11</th>\n",
              "      <td>20190201T0200</td>\n",
              "      <td>4.7505283</td>\n",
              "      <td>0.0</td>\n",
              "      <td>15.59066</td>\n",
              "      <td>199.98311</td>\n",
              "    </tr>\n",
              "    <tr>\n",
              "      <th>12</th>\n",
              "      <td>20190201T0300</td>\n",
              "      <td>4.9805284</td>\n",
              "      <td>0.0</td>\n",
              "      <td>13.343954</td>\n",
              "      <td>206.0535</td>\n",
              "    </tr>\n",
              "    <tr>\n",
              "      <th>13</th>\n",
              "      <td>20190201T0400</td>\n",
              "      <td>6.1505284</td>\n",
              "      <td>0.0</td>\n",
              "      <td>9.974892</td>\n",
              "      <td>235.88553</td>\n",
              "    </tr>\n",
              "    <tr>\n",
              "      <th>...</th>\n",
              "      <td>...</td>\n",
              "      <td>...</td>\n",
              "      <td>...</td>\n",
              "      <td>...</td>\n",
              "      <td>...</td>\n",
              "    </tr>\n",
              "    <tr>\n",
              "      <th>8956</th>\n",
              "      <td>20200208T1900</td>\n",
              "      <td>10.440529</td>\n",
              "      <td>0.0</td>\n",
              "      <td>6.8075495</td>\n",
              "      <td>120.57922</td>\n",
              "    </tr>\n",
              "    <tr>\n",
              "      <th>8957</th>\n",
              "      <td>20200208T2000</td>\n",
              "      <td>7.6205287</td>\n",
              "      <td>0.0</td>\n",
              "      <td>6.0865254</td>\n",
              "      <td>156.8014</td>\n",
              "    </tr>\n",
              "    <tr>\n",
              "      <th>8958</th>\n",
              "      <td>20200208T2100</td>\n",
              "      <td>5.3805285</td>\n",
              "      <td>0.0</td>\n",
              "      <td>6.992683</td>\n",
              "      <td>162.25533</td>\n",
              "    </tr>\n",
              "    <tr>\n",
              "      <th>8959</th>\n",
              "      <td>20200208T2200</td>\n",
              "      <td>4.4905286</td>\n",
              "      <td>0.0</td>\n",
              "      <td>7.0533133</td>\n",
              "      <td>169.11447</td>\n",
              "    </tr>\n",
              "    <tr>\n",
              "      <th>8960</th>\n",
              "      <td>20200208T2300</td>\n",
              "      <td>5.9805284</td>\n",
              "      <td>0.0</td>\n",
              "      <td>7.4592</td>\n",
              "      <td>180.0</td>\n",
              "    </tr>\n",
              "  </tbody>\n",
              "</table>\n",
              "<p>8952 rows × 5 columns</p>\n",
              "</div>"
            ],
            "text/plain": [
              "          Timestamp Temperature Precipitation Wind_Speed Wind_Direction\n",
              "9     20190201T0000   3.3305285           0.0  25.364021     126.027374\n",
              "10    20190201T0100   4.4105287           0.0  18.015022      156.46765\n",
              "11    20190201T0200   4.7505283           0.0   15.59066      199.98311\n",
              "12    20190201T0300   4.9805284           0.0  13.343954       206.0535\n",
              "13    20190201T0400   6.1505284           0.0   9.974892      235.88553\n",
              "...             ...         ...           ...        ...            ...\n",
              "8956  20200208T1900   10.440529           0.0  6.8075495      120.57922\n",
              "8957  20200208T2000   7.6205287           0.0  6.0865254       156.8014\n",
              "8958  20200208T2100   5.3805285           0.0   6.992683      162.25533\n",
              "8959  20200208T2200   4.4905286           0.0  7.0533133      169.11447\n",
              "8960  20200208T2300   5.9805284           0.0     7.4592          180.0\n",
              "\n",
              "[8952 rows x 5 columns]"
            ]
          },
          "metadata": {
            "tags": []
          },
          "execution_count": 175
        }
      ]
    },
    {
      "cell_type": "code",
      "metadata": {
        "id": "vAJ3n7xGtkH5",
        "colab_type": "code",
        "colab": {}
      },
      "source": [
        "cols =  [\"Temperature\",\"Precipitation\",\"Wind_Speed\",\"Wind_Direction\"]\n",
        "df[cols] = df[cols].applymap(np.float)\n",
        "df[cols] = df[cols].round(2)"
      ],
      "execution_count": 0,
      "outputs": []
    },
    {
      "cell_type": "code",
      "metadata": {
        "id": "zPO00w6Bd32R",
        "colab_type": "code",
        "colab": {
          "base_uri": "https://localhost:8080/",
          "height": 222
        },
        "outputId": "809afad3-78c8-4b8e-8aab-352ba9eb4ae7"
      },
      "source": [
        "%pip install maya"
      ],
      "execution_count": 177,
      "outputs": [
        {
          "output_type": "stream",
          "text": [
            "Requirement already satisfied: maya in /usr/local/lib/python3.6/dist-packages (0.6.1)\n",
            "Requirement already satisfied: pendulum>=2.0.2 in /usr/local/lib/python3.6/dist-packages (from maya) (2.1.0)\n",
            "Requirement already satisfied: tzlocal in /usr/local/lib/python3.6/dist-packages (from maya) (1.5.1)\n",
            "Requirement already satisfied: humanize in /usr/local/lib/python3.6/dist-packages (from maya) (0.5.1)\n",
            "Requirement already satisfied: dateparser>=0.7.0 in /usr/local/lib/python3.6/dist-packages (from maya) (0.7.4)\n",
            "Requirement already satisfied: snaptime in /usr/local/lib/python3.6/dist-packages (from maya) (0.2.4)\n",
            "Requirement already satisfied: pytz in /usr/local/lib/python3.6/dist-packages (from maya) (2018.9)\n",
            "Requirement already satisfied: pytzdata>=2018.3 in /usr/local/lib/python3.6/dist-packages (from pendulum>=2.0.2->maya) (2019.3)\n",
            "Requirement already satisfied: python-dateutil<3.0,>=2.6 in /usr/local/lib/python3.6/dist-packages (from pendulum>=2.0.2->maya) (2.8.1)\n",
            "Requirement already satisfied: regex!=2019.02.19 in /usr/local/lib/python3.6/dist-packages (from dateparser>=0.7.0->maya) (2019.12.20)\n",
            "Requirement already satisfied: six>=1.5 in /usr/local/lib/python3.6/dist-packages (from python-dateutil<3.0,>=2.6->pendulum>=2.0.2->maya) (1.12.0)\n"
          ],
          "name": "stdout"
        }
      ]
    },
    {
      "cell_type": "code",
      "metadata": {
        "id": "Rla-nL9Md1Bc",
        "colab_type": "code",
        "colab": {
          "base_uri": "https://localhost:8080/",
          "height": 34
        },
        "outputId": "a8152a15-4df9-4892-e183-fde95db97f39"
      },
      "source": [
        "import maya\n",
        "\n",
        "dt = maya.parse('2018-04-29T0000').datetime()\n",
        "print(dt.date())"
      ],
      "execution_count": 178,
      "outputs": [
        {
          "output_type": "stream",
          "text": [
            "2018-04-29\n"
          ],
          "name": "stdout"
        }
      ]
    },
    {
      "cell_type": "code",
      "metadata": {
        "id": "Pb1XKe76eTH6",
        "colab_type": "code",
        "colab": {}
      },
      "source": [
        "datetimes = df['Timestamp'].values\n",
        "timestamp=[]\n",
        "for datetime in datetimes:\n",
        "  timestamp.append(maya.parse(datetime).datetime())\n",
        "df.drop('Timestamp',axis=1)\n",
        "df['Timestamp']=timestamp"
      ],
      "execution_count": 0,
      "outputs": []
    },
    {
      "cell_type": "code",
      "metadata": {
        "id": "eGDXA5E6e7wO",
        "colab_type": "code",
        "colab": {
          "base_uri": "https://localhost:8080/",
          "height": 195
        },
        "outputId": "b1492905-c666-446d-b4ee-3dfaec376b04"
      },
      "source": [
        "df.head()"
      ],
      "execution_count": 180,
      "outputs": [
        {
          "output_type": "execute_result",
          "data": {
            "text/html": [
              "<div>\n",
              "<style scoped>\n",
              "    .dataframe tbody tr th:only-of-type {\n",
              "        vertical-align: middle;\n",
              "    }\n",
              "\n",
              "    .dataframe tbody tr th {\n",
              "        vertical-align: top;\n",
              "    }\n",
              "\n",
              "    .dataframe thead th {\n",
              "        text-align: right;\n",
              "    }\n",
              "</style>\n",
              "<table border=\"1\" class=\"dataframe\">\n",
              "  <thead>\n",
              "    <tr style=\"text-align: right;\">\n",
              "      <th></th>\n",
              "      <th>Timestamp</th>\n",
              "      <th>Temperature</th>\n",
              "      <th>Precipitation</th>\n",
              "      <th>Wind_Speed</th>\n",
              "      <th>Wind_Direction</th>\n",
              "    </tr>\n",
              "  </thead>\n",
              "  <tbody>\n",
              "    <tr>\n",
              "      <th>9</th>\n",
              "      <td>2019-02-01 00:00:00+00:00</td>\n",
              "      <td>3.33</td>\n",
              "      <td>0.0</td>\n",
              "      <td>25.36</td>\n",
              "      <td>126.03</td>\n",
              "    </tr>\n",
              "    <tr>\n",
              "      <th>10</th>\n",
              "      <td>2019-02-01 01:00:00+00:00</td>\n",
              "      <td>4.41</td>\n",
              "      <td>0.0</td>\n",
              "      <td>18.02</td>\n",
              "      <td>156.47</td>\n",
              "    </tr>\n",
              "    <tr>\n",
              "      <th>11</th>\n",
              "      <td>2019-02-01 02:00:00+00:00</td>\n",
              "      <td>4.75</td>\n",
              "      <td>0.0</td>\n",
              "      <td>15.59</td>\n",
              "      <td>199.98</td>\n",
              "    </tr>\n",
              "    <tr>\n",
              "      <th>12</th>\n",
              "      <td>2019-02-01 03:00:00+00:00</td>\n",
              "      <td>4.98</td>\n",
              "      <td>0.0</td>\n",
              "      <td>13.34</td>\n",
              "      <td>206.05</td>\n",
              "    </tr>\n",
              "    <tr>\n",
              "      <th>13</th>\n",
              "      <td>2019-02-01 04:00:00+00:00</td>\n",
              "      <td>6.15</td>\n",
              "      <td>0.0</td>\n",
              "      <td>9.97</td>\n",
              "      <td>235.89</td>\n",
              "    </tr>\n",
              "  </tbody>\n",
              "</table>\n",
              "</div>"
            ],
            "text/plain": [
              "                   Timestamp  Temperature  ...  Wind_Speed  Wind_Direction\n",
              "9  2019-02-01 00:00:00+00:00         3.33  ...       25.36          126.03\n",
              "10 2019-02-01 01:00:00+00:00         4.41  ...       18.02          156.47\n",
              "11 2019-02-01 02:00:00+00:00         4.75  ...       15.59          199.98\n",
              "12 2019-02-01 03:00:00+00:00         4.98  ...       13.34          206.05\n",
              "13 2019-02-01 04:00:00+00:00         6.15  ...        9.97          235.89\n",
              "\n",
              "[5 rows x 5 columns]"
            ]
          },
          "metadata": {
            "tags": []
          },
          "execution_count": 180
        }
      ]
    },
    {
      "cell_type": "code",
      "metadata": {
        "id": "qBFOOrJPwmiz",
        "colab_type": "code",
        "colab": {}
      },
      "source": [
        "df = df.set_index('Timestamp')"
      ],
      "execution_count": 0,
      "outputs": []
    },
    {
      "cell_type": "code",
      "metadata": {
        "id": "NmP9OGggtxT9",
        "colab_type": "code",
        "colab": {}
      },
      "source": [
        "df = df.drop('Precipitation',axis=1)"
      ],
      "execution_count": 0,
      "outputs": []
    },
    {
      "cell_type": "code",
      "metadata": {
        "id": "WrZv-Fy4b33l",
        "colab_type": "code",
        "colab": {}
      },
      "source": [
        "df =df.drop('Wind_Speed',axis=1)"
      ],
      "execution_count": 0,
      "outputs": []
    },
    {
      "cell_type": "code",
      "metadata": {
        "id": "6I28Tnoybz82",
        "colab_type": "code",
        "colab": {}
      },
      "source": [
        "df = df.drop('Wind_Direction',axis=1)"
      ],
      "execution_count": 0,
      "outputs": []
    },
    {
      "cell_type": "code",
      "metadata": {
        "id": "cKN_xosLt0DR",
        "colab_type": "code",
        "outputId": "655bbcb7-9462-4980-9460-bb6742b1b78e",
        "colab": {
          "base_uri": "https://localhost:8080/",
          "height": 431
        }
      },
      "source": [
        "df"
      ],
      "execution_count": 185,
      "outputs": [
        {
          "output_type": "execute_result",
          "data": {
            "text/html": [
              "<div>\n",
              "<style scoped>\n",
              "    .dataframe tbody tr th:only-of-type {\n",
              "        vertical-align: middle;\n",
              "    }\n",
              "\n",
              "    .dataframe tbody tr th {\n",
              "        vertical-align: top;\n",
              "    }\n",
              "\n",
              "    .dataframe thead th {\n",
              "        text-align: right;\n",
              "    }\n",
              "</style>\n",
              "<table border=\"1\" class=\"dataframe\">\n",
              "  <thead>\n",
              "    <tr style=\"text-align: right;\">\n",
              "      <th></th>\n",
              "      <th>Temperature</th>\n",
              "    </tr>\n",
              "    <tr>\n",
              "      <th>Timestamp</th>\n",
              "      <th></th>\n",
              "    </tr>\n",
              "  </thead>\n",
              "  <tbody>\n",
              "    <tr>\n",
              "      <th>2019-02-01 00:00:00+00:00</th>\n",
              "      <td>3.33</td>\n",
              "    </tr>\n",
              "    <tr>\n",
              "      <th>2019-02-01 01:00:00+00:00</th>\n",
              "      <td>4.41</td>\n",
              "    </tr>\n",
              "    <tr>\n",
              "      <th>2019-02-01 02:00:00+00:00</th>\n",
              "      <td>4.75</td>\n",
              "    </tr>\n",
              "    <tr>\n",
              "      <th>2019-02-01 03:00:00+00:00</th>\n",
              "      <td>4.98</td>\n",
              "    </tr>\n",
              "    <tr>\n",
              "      <th>2019-02-01 04:00:00+00:00</th>\n",
              "      <td>6.15</td>\n",
              "    </tr>\n",
              "    <tr>\n",
              "      <th>...</th>\n",
              "      <td>...</td>\n",
              "    </tr>\n",
              "    <tr>\n",
              "      <th>2020-02-08 19:00:00+00:00</th>\n",
              "      <td>10.44</td>\n",
              "    </tr>\n",
              "    <tr>\n",
              "      <th>2020-02-08 20:00:00+00:00</th>\n",
              "      <td>7.62</td>\n",
              "    </tr>\n",
              "    <tr>\n",
              "      <th>2020-02-08 21:00:00+00:00</th>\n",
              "      <td>5.38</td>\n",
              "    </tr>\n",
              "    <tr>\n",
              "      <th>2020-02-08 22:00:00+00:00</th>\n",
              "      <td>4.49</td>\n",
              "    </tr>\n",
              "    <tr>\n",
              "      <th>2020-02-08 23:00:00+00:00</th>\n",
              "      <td>5.98</td>\n",
              "    </tr>\n",
              "  </tbody>\n",
              "</table>\n",
              "<p>8952 rows × 1 columns</p>\n",
              "</div>"
            ],
            "text/plain": [
              "                           Temperature\n",
              "Timestamp                             \n",
              "2019-02-01 00:00:00+00:00         3.33\n",
              "2019-02-01 01:00:00+00:00         4.41\n",
              "2019-02-01 02:00:00+00:00         4.75\n",
              "2019-02-01 03:00:00+00:00         4.98\n",
              "2019-02-01 04:00:00+00:00         6.15\n",
              "...                                ...\n",
              "2020-02-08 19:00:00+00:00        10.44\n",
              "2020-02-08 20:00:00+00:00         7.62\n",
              "2020-02-08 21:00:00+00:00         5.38\n",
              "2020-02-08 22:00:00+00:00         4.49\n",
              "2020-02-08 23:00:00+00:00         5.98\n",
              "\n",
              "[8952 rows x 1 columns]"
            ]
          },
          "metadata": {
            "tags": []
          },
          "execution_count": 185
        }
      ]
    },
    {
      "cell_type": "code",
      "metadata": {
        "id": "NhypesD1uFcU",
        "colab_type": "code",
        "outputId": "57ccbeb5-b447-401d-e33c-3e43f791fd0c",
        "colab": {
          "base_uri": "https://localhost:8080/",
          "height": 34
        }
      },
      "source": [
        "len(df)"
      ],
      "execution_count": 186,
      "outputs": [
        {
          "output_type": "execute_result",
          "data": {
            "text/plain": [
              "8952"
            ]
          },
          "metadata": {
            "tags": []
          },
          "execution_count": 186
        }
      ]
    },
    {
      "cell_type": "code",
      "metadata": {
        "id": "porESnYAhBNX",
        "colab_type": "code",
        "colab": {}
      },
      "source": [
        "temp = df['Temperature'].values"
      ],
      "execution_count": 0,
      "outputs": []
    },
    {
      "cell_type": "code",
      "metadata": {
        "id": "O50ds89WhJ0E",
        "colab_type": "code",
        "colab": {}
      },
      "source": [
        "i = 0\n",
        "maxi = 0\n",
        "mini = 0\n",
        "maxarroftemp=[]\n",
        "minarroftemp=[]\n",
        "for tem in temp:\n",
        "  if tem >= maxi:\n",
        "    maxi = tem\n",
        "    i=i+1\n",
        "  else:\n",
        "    mini = tem\n",
        "    i=i+1\n",
        "  if i == 24:\n",
        "    maxarroftemp.append(maxi)\n",
        "    minarroftemp.append(mini)\n",
        "    i=0\n",
        "  else:\n",
        "    continue"
      ],
      "execution_count": 0,
      "outputs": []
    },
    {
      "cell_type": "code",
      "metadata": {
        "id": "I58jJiKdiNjd",
        "colab_type": "code",
        "colab": {
          "base_uri": "https://localhost:8080/",
          "height": 34
        },
        "outputId": "cb1c411f-0d5d-406c-a19c-bebaddb473a4"
      },
      "source": [
        "len(maxarroftemp)"
      ],
      "execution_count": 194,
      "outputs": [
        {
          "output_type": "execute_result",
          "data": {
            "text/plain": [
              "373"
            ]
          },
          "metadata": {
            "tags": []
          },
          "execution_count": 194
        }
      ]
    },
    {
      "cell_type": "code",
      "metadata": {
        "id": "IZn_TOExixbx",
        "colab_type": "code",
        "colab": {
          "base_uri": "https://localhost:8080/",
          "height": 34
        },
        "outputId": "3bbb2792-9f91-4881-bbc5-1ab1d539fc58"
      },
      "source": [
        "len(minarroftemp)"
      ],
      "execution_count": 195,
      "outputs": [
        {
          "output_type": "execute_result",
          "data": {
            "text/plain": [
              "373"
            ]
          },
          "metadata": {
            "tags": []
          },
          "execution_count": 195
        }
      ]
    },
    {
      "cell_type": "code",
      "metadata": {
        "id": "Ra0vHuxWjMT1",
        "colab_type": "code",
        "colab": {}
      },
      "source": [
        "times = df.index.values"
      ],
      "execution_count": 0,
      "outputs": []
    },
    {
      "cell_type": "code",
      "metadata": {
        "id": "GSa5oULMm-Cy",
        "colab_type": "code",
        "colab": {
          "base_uri": "https://localhost:8080/",
          "height": 34
        },
        "outputId": "56ed999b-f1f9-40c9-d31a-e2b961555d96"
      },
      "source": [
        "len(times)"
      ],
      "execution_count": 197,
      "outputs": [
        {
          "output_type": "execute_result",
          "data": {
            "text/plain": [
              "8952"
            ]
          },
          "metadata": {
            "tags": []
          },
          "execution_count": 197
        }
      ]
    },
    {
      "cell_type": "code",
      "metadata": {
        "id": "WQtSVgANny-6",
        "colab_type": "code",
        "colab": {
          "base_uri": "https://localhost:8080/",
          "height": 34
        },
        "outputId": "5bf475d4-457d-4a5d-ff34-8902d7ea0797"
      },
      "source": [
        "len(df)"
      ],
      "execution_count": 198,
      "outputs": [
        {
          "output_type": "execute_result",
          "data": {
            "text/plain": [
              "8952"
            ]
          },
          "metadata": {
            "tags": []
          },
          "execution_count": 198
        }
      ]
    },
    {
      "cell_type": "code",
      "metadata": {
        "id": "DWPedneujRV0",
        "colab_type": "code",
        "colab": {}
      },
      "source": [
        "i = 0\n",
        "arrofdates=[]\n",
        "arrofdates.append(times[0])\n",
        "for time in times:\n",
        "  if i==23:\n",
        "    arrofdates.append(time)\n",
        "    i = 0\n",
        "  else:\n",
        "    i=i+1"
      ],
      "execution_count": 0,
      "outputs": []
    },
    {
      "cell_type": "code",
      "metadata": {
        "id": "-o5SGasQpLMF",
        "colab_type": "code",
        "colab": {
          "base_uri": "https://localhost:8080/",
          "height": 34
        },
        "outputId": "21d4d4e8-54d2-4c68-eaef-42a192b297ff"
      },
      "source": [
        "arrofdates.pop(0)"
      ],
      "execution_count": 241,
      "outputs": [
        {
          "output_type": "execute_result",
          "data": {
            "text/plain": [
              "numpy.datetime64('2019-02-01T00:00:00.000000000')"
            ]
          },
          "metadata": {
            "tags": []
          },
          "execution_count": 241
        }
      ]
    },
    {
      "cell_type": "code",
      "metadata": {
        "id": "5boSr2jsqTk7",
        "colab_type": "code",
        "colab": {
          "base_uri": "https://localhost:8080/",
          "height": 34
        },
        "outputId": "d1267c9a-5b96-4bc8-ca90-84f130934554"
      },
      "source": [
        "len(arrofdates)"
      ],
      "execution_count": 242,
      "outputs": [
        {
          "output_type": "execute_result",
          "data": {
            "text/plain": [
              "373"
            ]
          },
          "metadata": {
            "tags": []
          },
          "execution_count": 242
        }
      ]
    },
    {
      "cell_type": "code",
      "metadata": {
        "id": "oXJF0MS-rcFZ",
        "colab_type": "code",
        "colab": {}
      },
      "source": [
        "df_max = pd.DataFrame(arrofdates)\n",
        "df_min = pd.DataFrame(arrofdates)"
      ],
      "execution_count": 0,
      "outputs": []
    },
    {
      "cell_type": "code",
      "metadata": {
        "id": "LSdCZEMBridW",
        "colab_type": "code",
        "colab": {}
      },
      "source": [
        "df_max['timestamp']=arrofdates"
      ],
      "execution_count": 0,
      "outputs": []
    },
    {
      "cell_type": "code",
      "metadata": {
        "id": "SjAsghBRu7W8",
        "colab_type": "code",
        "colab": {}
      },
      "source": [
        "df_min['timestamp']=arrofdates"
      ],
      "execution_count": 0,
      "outputs": []
    },
    {
      "cell_type": "code",
      "metadata": {
        "id": "rldN8WS4mK5b",
        "colab_type": "code",
        "colab": {}
      },
      "source": [
        "df_max['maxTemp']=maxarroftemp"
      ],
      "execution_count": 0,
      "outputs": []
    },
    {
      "cell_type": "code",
      "metadata": {
        "id": "Yu078-b8rDee",
        "colab_type": "code",
        "colab": {}
      },
      "source": [
        "df_min['mixTemp']=minarroftemp"
      ],
      "execution_count": 0,
      "outputs": []
    },
    {
      "cell_type": "code",
      "metadata": {
        "id": "_cmBhbbQrIqW",
        "colab_type": "code",
        "colab": {}
      },
      "source": [
        "df_max = df_max.drop(0,axis=1)"
      ],
      "execution_count": 0,
      "outputs": []
    },
    {
      "cell_type": "code",
      "metadata": {
        "id": "dzHvjI9avFZ_",
        "colab_type": "code",
        "colab": {}
      },
      "source": [
        "df_min = df_min.drop(0,axis=1)"
      ],
      "execution_count": 0,
      "outputs": []
    },
    {
      "cell_type": "code",
      "metadata": {
        "id": "PB2Jl7dfr6_b",
        "colab_type": "code",
        "colab": {}
      },
      "source": [
        "df_max = df_max.set_index('timestamp')"
      ],
      "execution_count": 0,
      "outputs": []
    },
    {
      "cell_type": "code",
      "metadata": {
        "id": "Ed2PMGhxvSIv",
        "colab_type": "code",
        "colab": {}
      },
      "source": [
        "df_min = df_min.set_index('timestamp')"
      ],
      "execution_count": 0,
      "outputs": []
    },
    {
      "cell_type": "code",
      "metadata": {
        "id": "g7abPWtMsm4y",
        "colab_type": "code",
        "colab": {}
      },
      "source": [
        "test_size= 30"
      ],
      "execution_count": 0,
      "outputs": []
    },
    {
      "cell_type": "code",
      "metadata": {
        "id": "T5npyB50strQ",
        "colab_type": "code",
        "colab": {}
      },
      "source": [
        "test_ind = len(df)- test_size"
      ],
      "execution_count": 0,
      "outputs": []
    },
    {
      "cell_type": "code",
      "metadata": {
        "id": "X-nGrMx7syVt",
        "colab_type": "code",
        "colab": {}
      },
      "source": [
        "train_max = df_max.iloc[:test_ind]\n",
        "test_max = df_max.iloc[test_ind:]"
      ],
      "execution_count": 0,
      "outputs": []
    },
    {
      "cell_type": "code",
      "metadata": {
        "id": "kVNml1-9vX6K",
        "colab_type": "code",
        "colab": {}
      },
      "source": [
        "train_min = df_min.iloc[:test_ind]\n",
        "test_min = df_min.iloc[test_ind:]"
      ],
      "execution_count": 0,
      "outputs": []
    },
    {
      "cell_type": "code",
      "metadata": {
        "id": "iYdcb_Yrs3AW",
        "colab_type": "code",
        "colab": {
          "base_uri": "https://localhost:8080/",
          "height": 431
        },
        "outputId": "8b0726c5-f82c-4af7-c75b-36d3741cab4b"
      },
      "source": [
        "train_max"
      ],
      "execution_count": 304,
      "outputs": [
        {
          "output_type": "execute_result",
          "data": {
            "text/html": [
              "<div>\n",
              "<style scoped>\n",
              "    .dataframe tbody tr th:only-of-type {\n",
              "        vertical-align: middle;\n",
              "    }\n",
              "\n",
              "    .dataframe tbody tr th {\n",
              "        vertical-align: top;\n",
              "    }\n",
              "\n",
              "    .dataframe thead th {\n",
              "        text-align: right;\n",
              "    }\n",
              "</style>\n",
              "<table border=\"1\" class=\"dataframe\">\n",
              "  <thead>\n",
              "    <tr style=\"text-align: right;\">\n",
              "      <th></th>\n",
              "      <th>maxTemp</th>\n",
              "    </tr>\n",
              "    <tr>\n",
              "      <th>timestamp</th>\n",
              "      <th></th>\n",
              "    </tr>\n",
              "  </thead>\n",
              "  <tbody>\n",
              "    <tr>\n",
              "      <th>2019-02-01 23:00:00</th>\n",
              "      <td>8.69</td>\n",
              "    </tr>\n",
              "    <tr>\n",
              "      <th>2019-02-02 23:00:00</th>\n",
              "      <td>9.01</td>\n",
              "    </tr>\n",
              "    <tr>\n",
              "      <th>2019-02-03 23:00:00</th>\n",
              "      <td>9.01</td>\n",
              "    </tr>\n",
              "    <tr>\n",
              "      <th>2019-02-04 23:00:00</th>\n",
              "      <td>9.01</td>\n",
              "    </tr>\n",
              "    <tr>\n",
              "      <th>2019-02-05 23:00:00</th>\n",
              "      <td>9.01</td>\n",
              "    </tr>\n",
              "    <tr>\n",
              "      <th>...</th>\n",
              "      <td>...</td>\n",
              "    </tr>\n",
              "    <tr>\n",
              "      <th>2020-01-05 23:00:00</th>\n",
              "      <td>36.12</td>\n",
              "    </tr>\n",
              "    <tr>\n",
              "      <th>2020-01-06 23:00:00</th>\n",
              "      <td>36.12</td>\n",
              "    </tr>\n",
              "    <tr>\n",
              "      <th>2020-01-07 23:00:00</th>\n",
              "      <td>36.12</td>\n",
              "    </tr>\n",
              "    <tr>\n",
              "      <th>2020-01-08 23:00:00</th>\n",
              "      <td>36.12</td>\n",
              "    </tr>\n",
              "    <tr>\n",
              "      <th>2020-01-09 23:00:00</th>\n",
              "      <td>36.12</td>\n",
              "    </tr>\n",
              "  </tbody>\n",
              "</table>\n",
              "<p>343 rows × 1 columns</p>\n",
              "</div>"
            ],
            "text/plain": [
              "                     maxTemp\n",
              "timestamp                   \n",
              "2019-02-01 23:00:00     8.69\n",
              "2019-02-02 23:00:00     9.01\n",
              "2019-02-03 23:00:00     9.01\n",
              "2019-02-04 23:00:00     9.01\n",
              "2019-02-05 23:00:00     9.01\n",
              "...                      ...\n",
              "2020-01-05 23:00:00    36.12\n",
              "2020-01-06 23:00:00    36.12\n",
              "2020-01-07 23:00:00    36.12\n",
              "2020-01-08 23:00:00    36.12\n",
              "2020-01-09 23:00:00    36.12\n",
              "\n",
              "[343 rows x 1 columns]"
            ]
          },
          "metadata": {
            "tags": []
          },
          "execution_count": 304
        }
      ]
    },
    {
      "cell_type": "code",
      "metadata": {
        "id": "rdryYKYYs8em",
        "colab_type": "code",
        "colab": {
          "base_uri": "https://localhost:8080/",
          "height": 965
        },
        "outputId": "f9435e51-69b7-45c9-9c0d-a670e09a117a"
      },
      "source": [
        "test_max"
      ],
      "execution_count": 305,
      "outputs": [
        {
          "output_type": "execute_result",
          "data": {
            "text/html": [
              "<div>\n",
              "<style scoped>\n",
              "    .dataframe tbody tr th:only-of-type {\n",
              "        vertical-align: middle;\n",
              "    }\n",
              "\n",
              "    .dataframe tbody tr th {\n",
              "        vertical-align: top;\n",
              "    }\n",
              "\n",
              "    .dataframe thead th {\n",
              "        text-align: right;\n",
              "    }\n",
              "</style>\n",
              "<table border=\"1\" class=\"dataframe\">\n",
              "  <thead>\n",
              "    <tr style=\"text-align: right;\">\n",
              "      <th></th>\n",
              "      <th>maxTemp</th>\n",
              "    </tr>\n",
              "    <tr>\n",
              "      <th>timestamp</th>\n",
              "      <th></th>\n",
              "    </tr>\n",
              "  </thead>\n",
              "  <tbody>\n",
              "    <tr>\n",
              "      <th>2020-01-10 23:00:00</th>\n",
              "      <td>36.12</td>\n",
              "    </tr>\n",
              "    <tr>\n",
              "      <th>2020-01-11 23:00:00</th>\n",
              "      <td>36.12</td>\n",
              "    </tr>\n",
              "    <tr>\n",
              "      <th>2020-01-12 23:00:00</th>\n",
              "      <td>36.12</td>\n",
              "    </tr>\n",
              "    <tr>\n",
              "      <th>2020-01-13 23:00:00</th>\n",
              "      <td>36.12</td>\n",
              "    </tr>\n",
              "    <tr>\n",
              "      <th>2020-01-14 23:00:00</th>\n",
              "      <td>36.12</td>\n",
              "    </tr>\n",
              "    <tr>\n",
              "      <th>2020-01-15 23:00:00</th>\n",
              "      <td>36.12</td>\n",
              "    </tr>\n",
              "    <tr>\n",
              "      <th>2020-01-16 23:00:00</th>\n",
              "      <td>36.12</td>\n",
              "    </tr>\n",
              "    <tr>\n",
              "      <th>2020-01-17 23:00:00</th>\n",
              "      <td>36.12</td>\n",
              "    </tr>\n",
              "    <tr>\n",
              "      <th>2020-01-18 23:00:00</th>\n",
              "      <td>36.12</td>\n",
              "    </tr>\n",
              "    <tr>\n",
              "      <th>2020-01-19 23:00:00</th>\n",
              "      <td>36.12</td>\n",
              "    </tr>\n",
              "    <tr>\n",
              "      <th>2020-01-20 23:00:00</th>\n",
              "      <td>36.12</td>\n",
              "    </tr>\n",
              "    <tr>\n",
              "      <th>2020-01-21 23:00:00</th>\n",
              "      <td>36.12</td>\n",
              "    </tr>\n",
              "    <tr>\n",
              "      <th>2020-01-22 23:00:00</th>\n",
              "      <td>36.12</td>\n",
              "    </tr>\n",
              "    <tr>\n",
              "      <th>2020-01-23 23:00:00</th>\n",
              "      <td>36.12</td>\n",
              "    </tr>\n",
              "    <tr>\n",
              "      <th>2020-01-24 23:00:00</th>\n",
              "      <td>36.12</td>\n",
              "    </tr>\n",
              "    <tr>\n",
              "      <th>2020-01-25 23:00:00</th>\n",
              "      <td>36.12</td>\n",
              "    </tr>\n",
              "    <tr>\n",
              "      <th>2020-01-26 23:00:00</th>\n",
              "      <td>36.12</td>\n",
              "    </tr>\n",
              "    <tr>\n",
              "      <th>2020-01-27 23:00:00</th>\n",
              "      <td>36.12</td>\n",
              "    </tr>\n",
              "    <tr>\n",
              "      <th>2020-01-28 23:00:00</th>\n",
              "      <td>36.12</td>\n",
              "    </tr>\n",
              "    <tr>\n",
              "      <th>2020-01-29 23:00:00</th>\n",
              "      <td>36.12</td>\n",
              "    </tr>\n",
              "    <tr>\n",
              "      <th>2020-01-30 23:00:00</th>\n",
              "      <td>36.12</td>\n",
              "    </tr>\n",
              "    <tr>\n",
              "      <th>2020-01-31 23:00:00</th>\n",
              "      <td>36.12</td>\n",
              "    </tr>\n",
              "    <tr>\n",
              "      <th>2020-02-01 23:00:00</th>\n",
              "      <td>36.12</td>\n",
              "    </tr>\n",
              "    <tr>\n",
              "      <th>2020-02-02 23:00:00</th>\n",
              "      <td>36.12</td>\n",
              "    </tr>\n",
              "    <tr>\n",
              "      <th>2020-02-03 23:00:00</th>\n",
              "      <td>36.12</td>\n",
              "    </tr>\n",
              "    <tr>\n",
              "      <th>2020-02-04 23:00:00</th>\n",
              "      <td>36.12</td>\n",
              "    </tr>\n",
              "    <tr>\n",
              "      <th>2020-02-05 23:00:00</th>\n",
              "      <td>36.12</td>\n",
              "    </tr>\n",
              "    <tr>\n",
              "      <th>2020-02-06 23:00:00</th>\n",
              "      <td>36.12</td>\n",
              "    </tr>\n",
              "    <tr>\n",
              "      <th>2020-02-07 23:00:00</th>\n",
              "      <td>36.12</td>\n",
              "    </tr>\n",
              "    <tr>\n",
              "      <th>2020-02-08 23:00:00</th>\n",
              "      <td>36.12</td>\n",
              "    </tr>\n",
              "  </tbody>\n",
              "</table>\n",
              "</div>"
            ],
            "text/plain": [
              "                     maxTemp\n",
              "timestamp                   \n",
              "2020-01-10 23:00:00    36.12\n",
              "2020-01-11 23:00:00    36.12\n",
              "2020-01-12 23:00:00    36.12\n",
              "2020-01-13 23:00:00    36.12\n",
              "2020-01-14 23:00:00    36.12\n",
              "2020-01-15 23:00:00    36.12\n",
              "2020-01-16 23:00:00    36.12\n",
              "2020-01-17 23:00:00    36.12\n",
              "2020-01-18 23:00:00    36.12\n",
              "2020-01-19 23:00:00    36.12\n",
              "2020-01-20 23:00:00    36.12\n",
              "2020-01-21 23:00:00    36.12\n",
              "2020-01-22 23:00:00    36.12\n",
              "2020-01-23 23:00:00    36.12\n",
              "2020-01-24 23:00:00    36.12\n",
              "2020-01-25 23:00:00    36.12\n",
              "2020-01-26 23:00:00    36.12\n",
              "2020-01-27 23:00:00    36.12\n",
              "2020-01-28 23:00:00    36.12\n",
              "2020-01-29 23:00:00    36.12\n",
              "2020-01-30 23:00:00    36.12\n",
              "2020-01-31 23:00:00    36.12\n",
              "2020-02-01 23:00:00    36.12\n",
              "2020-02-02 23:00:00    36.12\n",
              "2020-02-03 23:00:00    36.12\n",
              "2020-02-04 23:00:00    36.12\n",
              "2020-02-05 23:00:00    36.12\n",
              "2020-02-06 23:00:00    36.12\n",
              "2020-02-07 23:00:00    36.12\n",
              "2020-02-08 23:00:00    36.12"
            ]
          },
          "metadata": {
            "tags": []
          },
          "execution_count": 305
        }
      ]
    },
    {
      "cell_type": "code",
      "metadata": {
        "id": "-FcxoyILwLFu",
        "colab_type": "code",
        "colab": {
          "base_uri": "https://localhost:8080/",
          "height": 431
        },
        "outputId": "73da6f81-92e0-4039-f32a-3aa653994c53"
      },
      "source": [
        "train_min"
      ],
      "execution_count": 306,
      "outputs": [
        {
          "output_type": "execute_result",
          "data": {
            "text/html": [
              "<div>\n",
              "<style scoped>\n",
              "    .dataframe tbody tr th:only-of-type {\n",
              "        vertical-align: middle;\n",
              "    }\n",
              "\n",
              "    .dataframe tbody tr th {\n",
              "        vertical-align: top;\n",
              "    }\n",
              "\n",
              "    .dataframe thead th {\n",
              "        text-align: right;\n",
              "    }\n",
              "</style>\n",
              "<table border=\"1\" class=\"dataframe\">\n",
              "  <thead>\n",
              "    <tr style=\"text-align: right;\">\n",
              "      <th></th>\n",
              "      <th>mixTemp</th>\n",
              "    </tr>\n",
              "    <tr>\n",
              "      <th>timestamp</th>\n",
              "      <th></th>\n",
              "    </tr>\n",
              "  </thead>\n",
              "  <tbody>\n",
              "    <tr>\n",
              "      <th>2019-02-01 23:00:00</th>\n",
              "      <td>6.19</td>\n",
              "    </tr>\n",
              "    <tr>\n",
              "      <th>2019-02-02 23:00:00</th>\n",
              "      <td>4.24</td>\n",
              "    </tr>\n",
              "    <tr>\n",
              "      <th>2019-02-03 23:00:00</th>\n",
              "      <td>-0.64</td>\n",
              "    </tr>\n",
              "    <tr>\n",
              "      <th>2019-02-04 23:00:00</th>\n",
              "      <td>0.84</td>\n",
              "    </tr>\n",
              "    <tr>\n",
              "      <th>2019-02-05 23:00:00</th>\n",
              "      <td>1.82</td>\n",
              "    </tr>\n",
              "    <tr>\n",
              "      <th>...</th>\n",
              "      <td>...</td>\n",
              "    </tr>\n",
              "    <tr>\n",
              "      <th>2020-01-05 23:00:00</th>\n",
              "      <td>0.63</td>\n",
              "    </tr>\n",
              "    <tr>\n",
              "      <th>2020-01-06 23:00:00</th>\n",
              "      <td>3.22</td>\n",
              "    </tr>\n",
              "    <tr>\n",
              "      <th>2020-01-07 23:00:00</th>\n",
              "      <td>5.62</td>\n",
              "    </tr>\n",
              "    <tr>\n",
              "      <th>2020-01-08 23:00:00</th>\n",
              "      <td>8.75</td>\n",
              "    </tr>\n",
              "    <tr>\n",
              "      <th>2020-01-09 23:00:00</th>\n",
              "      <td>9.05</td>\n",
              "    </tr>\n",
              "  </tbody>\n",
              "</table>\n",
              "<p>343 rows × 1 columns</p>\n",
              "</div>"
            ],
            "text/plain": [
              "                     mixTemp\n",
              "timestamp                   \n",
              "2019-02-01 23:00:00     6.19\n",
              "2019-02-02 23:00:00     4.24\n",
              "2019-02-03 23:00:00    -0.64\n",
              "2019-02-04 23:00:00     0.84\n",
              "2019-02-05 23:00:00     1.82\n",
              "...                      ...\n",
              "2020-01-05 23:00:00     0.63\n",
              "2020-01-06 23:00:00     3.22\n",
              "2020-01-07 23:00:00     5.62\n",
              "2020-01-08 23:00:00     8.75\n",
              "2020-01-09 23:00:00     9.05\n",
              "\n",
              "[343 rows x 1 columns]"
            ]
          },
          "metadata": {
            "tags": []
          },
          "execution_count": 306
        }
      ]
    },
    {
      "cell_type": "code",
      "metadata": {
        "id": "4hPokc7xwNVU",
        "colab_type": "code",
        "colab": {
          "base_uri": "https://localhost:8080/",
          "height": 965
        },
        "outputId": "30342db4-e5d4-4ab8-fd7a-1949386c8972"
      },
      "source": [
        "test_min"
      ],
      "execution_count": 307,
      "outputs": [
        {
          "output_type": "execute_result",
          "data": {
            "text/html": [
              "<div>\n",
              "<style scoped>\n",
              "    .dataframe tbody tr th:only-of-type {\n",
              "        vertical-align: middle;\n",
              "    }\n",
              "\n",
              "    .dataframe tbody tr th {\n",
              "        vertical-align: top;\n",
              "    }\n",
              "\n",
              "    .dataframe thead th {\n",
              "        text-align: right;\n",
              "    }\n",
              "</style>\n",
              "<table border=\"1\" class=\"dataframe\">\n",
              "  <thead>\n",
              "    <tr style=\"text-align: right;\">\n",
              "      <th></th>\n",
              "      <th>mixTemp</th>\n",
              "    </tr>\n",
              "    <tr>\n",
              "      <th>timestamp</th>\n",
              "      <th></th>\n",
              "    </tr>\n",
              "  </thead>\n",
              "  <tbody>\n",
              "    <tr>\n",
              "      <th>2020-01-10 23:00:00</th>\n",
              "      <td>6.75</td>\n",
              "    </tr>\n",
              "    <tr>\n",
              "      <th>2020-01-11 23:00:00</th>\n",
              "      <td>3.18</td>\n",
              "    </tr>\n",
              "    <tr>\n",
              "      <th>2020-01-12 23:00:00</th>\n",
              "      <td>4.11</td>\n",
              "    </tr>\n",
              "    <tr>\n",
              "      <th>2020-01-13 23:00:00</th>\n",
              "      <td>6.38</td>\n",
              "    </tr>\n",
              "    <tr>\n",
              "      <th>2020-01-14 23:00:00</th>\n",
              "      <td>9.04</td>\n",
              "    </tr>\n",
              "    <tr>\n",
              "      <th>2020-01-15 23:00:00</th>\n",
              "      <td>8.05</td>\n",
              "    </tr>\n",
              "    <tr>\n",
              "      <th>2020-01-16 23:00:00</th>\n",
              "      <td>5.18</td>\n",
              "    </tr>\n",
              "    <tr>\n",
              "      <th>2020-01-17 23:00:00</th>\n",
              "      <td>5.44</td>\n",
              "    </tr>\n",
              "    <tr>\n",
              "      <th>2020-01-18 23:00:00</th>\n",
              "      <td>2.27</td>\n",
              "    </tr>\n",
              "    <tr>\n",
              "      <th>2020-01-19 23:00:00</th>\n",
              "      <td>-0.05</td>\n",
              "    </tr>\n",
              "    <tr>\n",
              "      <th>2020-01-20 23:00:00</th>\n",
              "      <td>1.24</td>\n",
              "    </tr>\n",
              "    <tr>\n",
              "      <th>2020-01-21 23:00:00</th>\n",
              "      <td>-0.20</td>\n",
              "    </tr>\n",
              "    <tr>\n",
              "      <th>2020-01-22 23:00:00</th>\n",
              "      <td>-0.10</td>\n",
              "    </tr>\n",
              "    <tr>\n",
              "      <th>2020-01-23 23:00:00</th>\n",
              "      <td>1.44</td>\n",
              "    </tr>\n",
              "    <tr>\n",
              "      <th>2020-01-24 23:00:00</th>\n",
              "      <td>9.06</td>\n",
              "    </tr>\n",
              "    <tr>\n",
              "      <th>2020-01-25 23:00:00</th>\n",
              "      <td>5.27</td>\n",
              "    </tr>\n",
              "    <tr>\n",
              "      <th>2020-01-26 23:00:00</th>\n",
              "      <td>7.20</td>\n",
              "    </tr>\n",
              "    <tr>\n",
              "      <th>2020-01-27 23:00:00</th>\n",
              "      <td>8.38</td>\n",
              "    </tr>\n",
              "    <tr>\n",
              "      <th>2020-01-28 23:00:00</th>\n",
              "      <td>4.54</td>\n",
              "    </tr>\n",
              "    <tr>\n",
              "      <th>2020-01-29 23:00:00</th>\n",
              "      <td>4.92</td>\n",
              "    </tr>\n",
              "    <tr>\n",
              "      <th>2020-01-30 23:00:00</th>\n",
              "      <td>11.40</td>\n",
              "    </tr>\n",
              "    <tr>\n",
              "      <th>2020-01-31 23:00:00</th>\n",
              "      <td>9.20</td>\n",
              "    </tr>\n",
              "    <tr>\n",
              "      <th>2020-02-01 23:00:00</th>\n",
              "      <td>10.24</td>\n",
              "    </tr>\n",
              "    <tr>\n",
              "      <th>2020-02-02 23:00:00</th>\n",
              "      <td>14.08</td>\n",
              "    </tr>\n",
              "    <tr>\n",
              "      <th>2020-02-03 23:00:00</th>\n",
              "      <td>13.56</td>\n",
              "    </tr>\n",
              "    <tr>\n",
              "      <th>2020-02-04 23:00:00</th>\n",
              "      <td>3.40</td>\n",
              "    </tr>\n",
              "    <tr>\n",
              "      <th>2020-02-05 23:00:00</th>\n",
              "      <td>-0.04</td>\n",
              "    </tr>\n",
              "    <tr>\n",
              "      <th>2020-02-06 23:00:00</th>\n",
              "      <td>4.11</td>\n",
              "    </tr>\n",
              "    <tr>\n",
              "      <th>2020-02-07 23:00:00</th>\n",
              "      <td>2.26</td>\n",
              "    </tr>\n",
              "    <tr>\n",
              "      <th>2020-02-08 23:00:00</th>\n",
              "      <td>5.98</td>\n",
              "    </tr>\n",
              "  </tbody>\n",
              "</table>\n",
              "</div>"
            ],
            "text/plain": [
              "                     mixTemp\n",
              "timestamp                   \n",
              "2020-01-10 23:00:00     6.75\n",
              "2020-01-11 23:00:00     3.18\n",
              "2020-01-12 23:00:00     4.11\n",
              "2020-01-13 23:00:00     6.38\n",
              "2020-01-14 23:00:00     9.04\n",
              "2020-01-15 23:00:00     8.05\n",
              "2020-01-16 23:00:00     5.18\n",
              "2020-01-17 23:00:00     5.44\n",
              "2020-01-18 23:00:00     2.27\n",
              "2020-01-19 23:00:00    -0.05\n",
              "2020-01-20 23:00:00     1.24\n",
              "2020-01-21 23:00:00    -0.20\n",
              "2020-01-22 23:00:00    -0.10\n",
              "2020-01-23 23:00:00     1.44\n",
              "2020-01-24 23:00:00     9.06\n",
              "2020-01-25 23:00:00     5.27\n",
              "2020-01-26 23:00:00     7.20\n",
              "2020-01-27 23:00:00     8.38\n",
              "2020-01-28 23:00:00     4.54\n",
              "2020-01-29 23:00:00     4.92\n",
              "2020-01-30 23:00:00    11.40\n",
              "2020-01-31 23:00:00     9.20\n",
              "2020-02-01 23:00:00    10.24\n",
              "2020-02-02 23:00:00    14.08\n",
              "2020-02-03 23:00:00    13.56\n",
              "2020-02-04 23:00:00     3.40\n",
              "2020-02-05 23:00:00    -0.04\n",
              "2020-02-06 23:00:00     4.11\n",
              "2020-02-07 23:00:00     2.26\n",
              "2020-02-08 23:00:00     5.98"
            ]
          },
          "metadata": {
            "tags": []
          },
          "execution_count": 307
        }
      ]
    },
    {
      "cell_type": "code",
      "metadata": {
        "id": "37TX2hOUtbYa",
        "colab_type": "code",
        "colab": {}
      },
      "source": [
        "from sklearn.preprocessing import MinMaxScaler"
      ],
      "execution_count": 0,
      "outputs": []
    },
    {
      "cell_type": "code",
      "metadata": {
        "id": "qUmLdAqqt7KC",
        "colab_type": "code",
        "colab": {}
      },
      "source": [
        "scaler_max = MinMaxScaler()"
      ],
      "execution_count": 0,
      "outputs": []
    },
    {
      "cell_type": "code",
      "metadata": {
        "id": "H7RYm6aYwUkM",
        "colab_type": "code",
        "colab": {}
      },
      "source": [
        "scaler_min = MinMaxScaler()"
      ],
      "execution_count": 0,
      "outputs": []
    },
    {
      "cell_type": "code",
      "metadata": {
        "id": "HktOXy5MuDwN",
        "colab_type": "code",
        "outputId": "08e4335d-2c5e-40d7-e4ba-44877158a1bb",
        "colab": {
          "base_uri": "https://localhost:8080/",
          "height": 34
        }
      },
      "source": [
        "scaler_max.fit(train_max)"
      ],
      "execution_count": 313,
      "outputs": [
        {
          "output_type": "execute_result",
          "data": {
            "text/plain": [
              "MinMaxScaler(copy=True, feature_range=(0, 1))"
            ]
          },
          "metadata": {
            "tags": []
          },
          "execution_count": 313
        }
      ]
    },
    {
      "cell_type": "code",
      "metadata": {
        "id": "Wg_4AagEwaVl",
        "colab_type": "code",
        "colab": {
          "base_uri": "https://localhost:8080/",
          "height": 34
        },
        "outputId": "1e62b212-9d40-4e60-a585-1ea082e3279c"
      },
      "source": [
        "scaler_min.fit(train_min)"
      ],
      "execution_count": 314,
      "outputs": [
        {
          "output_type": "execute_result",
          "data": {
            "text/plain": [
              "MinMaxScaler(copy=True, feature_range=(0, 1))"
            ]
          },
          "metadata": {
            "tags": []
          },
          "execution_count": 314
        }
      ]
    },
    {
      "cell_type": "code",
      "metadata": {
        "id": "miyMjwrruF-P",
        "colab_type": "code",
        "colab": {}
      },
      "source": [
        "scaled_train_max = scaler_max.transform(train_max)\n",
        "scaled_test_max = scaler_max.transform(test_max)"
      ],
      "execution_count": 0,
      "outputs": []
    },
    {
      "cell_type": "code",
      "metadata": {
        "id": "V5QpQuavwkKD",
        "colab_type": "code",
        "colab": {}
      },
      "source": [
        "scaled_train_min = scaler_min.transform(train_min)\n",
        "scaled_test_min = scaler_min.transform(test_min)"
      ],
      "execution_count": 0,
      "outputs": []
    },
    {
      "cell_type": "code",
      "metadata": {
        "id": "gA3UuLWJuYAP",
        "colab_type": "code",
        "colab": {}
      },
      "source": [
        "from tensorflow.keras.preprocessing.sequence import TimeseriesGenerator"
      ],
      "execution_count": 0,
      "outputs": []
    },
    {
      "cell_type": "code",
      "metadata": {
        "id": "IhPnlTD-ux4G",
        "colab_type": "code",
        "colab": {}
      },
      "source": [
        "length = 30\n",
        "generator_max = TimeseriesGenerator(scaled_train_max, scaled_train_max, length=length, batch_size=1)"
      ],
      "execution_count": 0,
      "outputs": []
    },
    {
      "cell_type": "code",
      "metadata": {
        "id": "d5YkkkmJwvkR",
        "colab_type": "code",
        "colab": {}
      },
      "source": [
        "length = 30\n",
        "generator_min = TimeseriesGenerator(scaled_train_min, scaled_train_min, length=length, batch_size=1)"
      ],
      "execution_count": 0,
      "outputs": []
    },
    {
      "cell_type": "code",
      "metadata": {
        "id": "Ygf4aRcjuzWM",
        "colab_type": "code",
        "colab": {}
      },
      "source": [
        "from tensorflow.keras.models import Sequential\n",
        "from tensorflow.keras.layers import Dense\n",
        "from tensorflow.keras.layers import LSTM"
      ],
      "execution_count": 0,
      "outputs": []
    },
    {
      "cell_type": "code",
      "metadata": {
        "id": "osrumwbau1W6",
        "colab_type": "code",
        "colab": {}
      },
      "source": [
        "n_features = 1"
      ],
      "execution_count": 0,
      "outputs": []
    },
    {
      "cell_type": "code",
      "metadata": {
        "id": "nlxh4dr9wW8N",
        "colab_type": "code",
        "colab": {
          "base_uri": "https://localhost:8080/",
          "height": 34
        },
        "outputId": "26314a02-d029-4a54-cc40-fa8b4ee47198"
      },
      "source": [
        "scaled_train_max.shape"
      ],
      "execution_count": 322,
      "outputs": [
        {
          "output_type": "execute_result",
          "data": {
            "text/plain": [
              "(343, 1)"
            ]
          },
          "metadata": {
            "tags": []
          },
          "execution_count": 322
        }
      ]
    },
    {
      "cell_type": "code",
      "metadata": {
        "id": "37Pvq7wWwY85",
        "colab_type": "code",
        "colab": {}
      },
      "source": [
        "model_max = Sequential()\n",
        "model_max.add(LSTM(150, activation='relu', input_shape=(length, n_features)))\n",
        "model_max.add(Dense(1))\n",
        "model_max.compile(optimizer='adam', loss='mse')"
      ],
      "execution_count": 0,
      "outputs": []
    },
    {
      "cell_type": "code",
      "metadata": {
        "id": "BmKn-3IJw9NL",
        "colab_type": "code",
        "colab": {}
      },
      "source": [
        "model_min = Sequential()\n",
        "model_min.add(LSTM(150, activation='relu', input_shape=(length, n_features)))\n",
        "model_min.add(Dense(1))\n",
        "model_min.compile(optimizer='adam', loss='mse')"
      ],
      "execution_count": 0,
      "outputs": []
    },
    {
      "cell_type": "code",
      "metadata": {
        "id": "Dpw4PbUSx209",
        "colab_type": "code",
        "colab": {
          "base_uri": "https://localhost:8080/",
          "height": 218
        },
        "outputId": "3030a4d8-bcc3-4e5d-e06a-39c9650866de"
      },
      "source": [
        "model.summary()"
      ],
      "execution_count": 338,
      "outputs": [
        {
          "output_type": "stream",
          "text": [
            "Model: \"sequential_1\"\n",
            "_________________________________________________________________\n",
            "Layer (type)                 Output Shape              Param #   \n",
            "=================================================================\n",
            "lstm_1 (LSTM)                (None, 150)               91800     \n",
            "_________________________________________________________________\n",
            "dense_1 (Dense)              (None, 2)                 302       \n",
            "=================================================================\n",
            "Total params: 92,102\n",
            "Trainable params: 92,102\n",
            "Non-trainable params: 0\n",
            "_________________________________________________________________\n"
          ],
          "name": "stdout"
        }
      ]
    },
    {
      "cell_type": "code",
      "metadata": {
        "id": "OsCKcCnWweT3",
        "colab_type": "code",
        "colab": {
          "base_uri": "https://localhost:8080/",
          "height": 218
        },
        "outputId": "e7c102c5-edf3-4569-f26e-5af3971421af"
      },
      "source": [
        "model_max.summary()"
      ],
      "execution_count": 326,
      "outputs": [
        {
          "output_type": "stream",
          "text": [
            "Model: \"sequential_3\"\n",
            "_________________________________________________________________\n",
            "Layer (type)                 Output Shape              Param #   \n",
            "=================================================================\n",
            "lstm_3 (LSTM)                (None, 150)               91200     \n",
            "_________________________________________________________________\n",
            "dense_3 (Dense)              (None, 1)                 151       \n",
            "=================================================================\n",
            "Total params: 91,351\n",
            "Trainable params: 91,351\n",
            "Non-trainable params: 0\n",
            "_________________________________________________________________\n"
          ],
          "name": "stdout"
        }
      ]
    },
    {
      "cell_type": "code",
      "metadata": {
        "id": "7Cpn2VrxxDR8",
        "colab_type": "code",
        "colab": {
          "base_uri": "https://localhost:8080/",
          "height": 218
        },
        "outputId": "97333ea7-dca8-4b5c-a63c-a983f4f8a094"
      },
      "source": [
        "model_min.summary()"
      ],
      "execution_count": 327,
      "outputs": [
        {
          "output_type": "stream",
          "text": [
            "Model: \"sequential_4\"\n",
            "_________________________________________________________________\n",
            "Layer (type)                 Output Shape              Param #   \n",
            "=================================================================\n",
            "lstm_4 (LSTM)                (None, 150)               91200     \n",
            "_________________________________________________________________\n",
            "dense_4 (Dense)              (None, 1)                 151       \n",
            "=================================================================\n",
            "Total params: 91,351\n",
            "Trainable params: 91,351\n",
            "Non-trainable params: 0\n",
            "_________________________________________________________________\n"
          ],
          "name": "stdout"
        }
      ]
    },
    {
      "cell_type": "code",
      "metadata": {
        "id": "gvpPAP73wi3i",
        "colab_type": "code",
        "colab": {}
      },
      "source": [
        "from tensorflow.keras.callbacks import EarlyStopping"
      ],
      "execution_count": 0,
      "outputs": []
    },
    {
      "cell_type": "code",
      "metadata": {
        "id": "ZavAP8BIxumb",
        "colab_type": "code",
        "colab": {}
      },
      "source": [
        "early_stop = EarlyStopping(monitor='val_loss',patience=3)"
      ],
      "execution_count": 0,
      "outputs": []
    },
    {
      "cell_type": "code",
      "metadata": {
        "id": "C2m9KCmkwlDo",
        "colab_type": "code",
        "colab": {}
      },
      "source": [
        "validation_generator_max = TimeseriesGenerator(scaled_test_max,scaled_test_max, length=length-1, batch_size=1)"
      ],
      "execution_count": 0,
      "outputs": []
    },
    {
      "cell_type": "code",
      "metadata": {
        "id": "RA0ERhh9xiDc",
        "colab_type": "code",
        "colab": {}
      },
      "source": [
        "validation_generator_min = TimeseriesGenerator(scaled_test_min,scaled_test_min, length=length-1, batch_size=1)"
      ],
      "execution_count": 0,
      "outputs": []
    },
    {
      "cell_type": "code",
      "metadata": {
        "id": "2POcZogix3Fa",
        "colab_type": "code",
        "outputId": "762a3149-a12b-4cd7-c01e-d8cfbd132bf1",
        "colab": {
          "base_uri": "https://localhost:8080/",
          "height": 168
        }
      },
      "source": [
        "model_max.fit_generator(generator_max,epochs=20,\n",
        "                    validation_data=validation_generator_max,\n",
        "                   callbacks=[early_stop])"
      ],
      "execution_count": 332,
      "outputs": [
        {
          "output_type": "stream",
          "text": [
            "Epoch 1/20\n",
            "313/313 [==============================] - 5s 16ms/step - loss: 0.0156 - val_loss: 5.8676e-05\n",
            "Epoch 2/20\n",
            "313/313 [==============================] - 5s 15ms/step - loss: 0.0021 - val_loss: 0.0073\n",
            "Epoch 3/20\n",
            "313/313 [==============================] - 5s 16ms/step - loss: 0.0018 - val_loss: 0.0021\n",
            "Epoch 4/20\n",
            "313/313 [==============================] - 5s 16ms/step - loss: 0.0019 - val_loss: 3.2430e-04\n"
          ],
          "name": "stdout"
        },
        {
          "output_type": "execute_result",
          "data": {
            "text/plain": [
              "<tensorflow.python.keras.callbacks.History at 0x7f6bcbc46a58>"
            ]
          },
          "metadata": {
            "tags": []
          },
          "execution_count": 332
        }
      ]
    },
    {
      "cell_type": "code",
      "metadata": {
        "id": "lAMXWca9xY9E",
        "colab_type": "code",
        "colab": {
          "base_uri": "https://localhost:8080/",
          "height": 202
        },
        "outputId": "ed3e7190-6bdd-4847-a157-6d126124c357"
      },
      "source": [
        "model_min.fit_generator(generator_min,epochs=20,\n",
        "                    validation_data=validation_generator_min,\n",
        "                   callbacks=[early_stop])"
      ],
      "execution_count": 336,
      "outputs": [
        {
          "output_type": "stream",
          "text": [
            "Epoch 1/20\n",
            "313/313 [==============================] - 5s 16ms/step - loss: 0.0235 - val_loss: 2.7468e-04\n",
            "Epoch 2/20\n",
            "313/313 [==============================] - 5s 15ms/step - loss: 0.0155 - val_loss: 1.0787e-07\n",
            "Epoch 3/20\n",
            "313/313 [==============================] - 5s 15ms/step - loss: 0.0144 - val_loss: 1.1333e-04\n",
            "Epoch 4/20\n",
            "313/313 [==============================] - 5s 16ms/step - loss: 0.0126 - val_loss: 1.0433e-05\n",
            "Epoch 5/20\n",
            "313/313 [==============================] - 5s 16ms/step - loss: 0.0121 - val_loss: 9.3865e-04\n"
          ],
          "name": "stdout"
        },
        {
          "output_type": "execute_result",
          "data": {
            "text/plain": [
              "<tensorflow.python.keras.callbacks.History at 0x7f6bca0b55f8>"
            ]
          },
          "metadata": {
            "tags": []
          },
          "execution_count": 336
        }
      ]
    },
    {
      "cell_type": "code",
      "metadata": {
        "id": "bULL7LhlyG6t",
        "colab_type": "code",
        "colab": {}
      },
      "source": [
        "n_features = scaled_train_max.shape[1]\n",
        "test_predictions = []\n",
        "\n",
        "first_eval_batch = scaled_train_max[-length:]\n",
        "current_batch = first_eval_batch.reshape((1, length, n_features))\n",
        "\n",
        "for i in range(len(test)):\n",
        "    \n",
        "    # get prediction 1 time stamp ahead ([0] is for grabbing just the number instead of [array])\n",
        "    current_pred = model_max.predict(current_batch)[0]\n",
        "    \n",
        "    # store prediction\n",
        "    test_predictions.append(current_pred) \n",
        "    \n",
        "    # update batch to now include prediction and drop first value\n",
        "    current_batch = np.append(current_batch[:,1:,:],[[current_pred]],axis=1)"
      ],
      "execution_count": 0,
      "outputs": []
    },
    {
      "cell_type": "code",
      "metadata": {
        "id": "G6XMEbZUyKkk",
        "colab_type": "code",
        "colab": {}
      },
      "source": [
        "true_predictions = scaler_max.inverse_transform(test_predictions)"
      ],
      "execution_count": 0,
      "outputs": []
    },
    {
      "cell_type": "code",
      "metadata": {
        "id": "pwS9RLeUB8-O",
        "colab_type": "code",
        "colab": {
          "base_uri": "https://localhost:8080/",
          "height": 521
        },
        "outputId": "03116f72-c332-40d2-b5a2-5b68fe4a41d8"
      },
      "source": [
        "true_predictions"
      ],
      "execution_count": 349,
      "outputs": [
        {
          "output_type": "execute_result",
          "data": {
            "text/plain": [
              "array([[36.62310521],\n",
              "       [36.69780959],\n",
              "       [36.77001576],\n",
              "       [36.84274839],\n",
              "       [36.91553333],\n",
              "       [36.98797167],\n",
              "       [37.05978872],\n",
              "       [37.13077521],\n",
              "       [37.20079054],\n",
              "       [37.26974315],\n",
              "       [37.33757091],\n",
              "       [37.40424112],\n",
              "       [37.46973744],\n",
              "       [37.53405658],\n",
              "       [37.59719202],\n",
              "       [37.65916337],\n",
              "       [37.71997063],\n",
              "       [37.77963996],\n",
              "       [37.83818118],\n",
              "       [37.89561062],\n",
              "       [37.95189886],\n",
              "       [38.00711131],\n",
              "       [38.06127411],\n",
              "       [38.11440362],\n",
              "       [38.16650965],\n",
              "       [38.21762817],\n",
              "       [38.26776898],\n",
              "       [38.31696152],\n",
              "       [38.36521886],\n",
              "       [38.41256063]])"
            ]
          },
          "metadata": {
            "tags": []
          },
          "execution_count": 349
        }
      ]
    },
    {
      "cell_type": "code",
      "metadata": {
        "id": "bABOngixt3fn",
        "colab_type": "code",
        "colab": {}
      },
      "source": [
        "max_pred=true_predictions"
      ],
      "execution_count": 0,
      "outputs": []
    },
    {
      "cell_type": "code",
      "metadata": {
        "id": "XGJic4ZlyOHJ",
        "colab_type": "code",
        "colab": {}
      },
      "source": [
        "n_features = scaled_train_min.shape[1]\n",
        "test_predictions = []\n",
        "\n",
        "first_eval_batch = scaled_train_min[-length:]\n",
        "current_batch = first_eval_batch.reshape((1, length, n_features))\n",
        "\n",
        "for i in range(len(test)):\n",
        "    \n",
        "    # get prediction 1 time stamp ahead ([0] is for grabbing just the number instead of [array])\n",
        "    current_pred = model_min.predict(current_batch)[0]\n",
        "    \n",
        "    # store prediction\n",
        "    test_predictions.append(current_pred) \n",
        "    \n",
        "    # update batch to now include prediction and drop first value\n",
        "    current_batch = np.append(current_batch[:,1:,:],[[current_pred]],axis=1)"
      ],
      "execution_count": 0,
      "outputs": []
    },
    {
      "cell_type": "code",
      "metadata": {
        "id": "vr5mfRCQyhOK",
        "colab_type": "code",
        "colab": {}
      },
      "source": [
        "true_predictions = scaler_min.inverse_transform(test_predictions)"
      ],
      "execution_count": 0,
      "outputs": []
    },
    {
      "cell_type": "code",
      "metadata": {
        "id": "nNVuAPHdykt-",
        "colab_type": "code",
        "colab": {}
      },
      "source": [
        "min_pred=true_predictions"
      ],
      "execution_count": 0,
      "outputs": []
    },
    {
      "cell_type": "code",
      "metadata": {
        "id": "D0bu6aB0uRv2",
        "colab_type": "code",
        "colab": {
          "base_uri": "https://localhost:8080/",
          "height": 218
        },
        "outputId": "40352aee-3cfa-419e-e440-c3baf86771ba"
      },
      "source": [
        "test['max_pred']=max_pred\n",
        "test['min_pred']=min_pred"
      ],
      "execution_count": 357,
      "outputs": [
        {
          "output_type": "stream",
          "text": [
            "/usr/local/lib/python3.6/dist-packages/ipykernel_launcher.py:1: SettingWithCopyWarning: \n",
            "A value is trying to be set on a copy of a slice from a DataFrame.\n",
            "Try using .loc[row_indexer,col_indexer] = value instead\n",
            "\n",
            "See the caveats in the documentation: https://pandas.pydata.org/pandas-docs/stable/user_guide/indexing.html#returning-a-view-versus-a-copy\n",
            "  \"\"\"Entry point for launching an IPython kernel.\n",
            "/usr/local/lib/python3.6/dist-packages/ipykernel_launcher.py:2: SettingWithCopyWarning: \n",
            "A value is trying to be set on a copy of a slice from a DataFrame.\n",
            "Try using .loc[row_indexer,col_indexer] = value instead\n",
            "\n",
            "See the caveats in the documentation: https://pandas.pydata.org/pandas-docs/stable/user_guide/indexing.html#returning-a-view-versus-a-copy\n",
            "  \n"
          ],
          "name": "stderr"
        }
      ]
    },
    {
      "cell_type": "code",
      "metadata": {
        "id": "nj6WR-O4KwFn",
        "colab_type": "code",
        "colab": {
          "base_uri": "https://localhost:8080/",
          "height": 294
        },
        "outputId": "e196c0c9-9ad6-40f0-f4f0-33a1a47ab734"
      },
      "source": [
        "train.plot()"
      ],
      "execution_count": 361,
      "outputs": [
        {
          "output_type": "execute_result",
          "data": {
            "text/plain": [
              "<matplotlib.axes._subplots.AxesSubplot at 0x7f6bc8cbce80>"
            ]
          },
          "metadata": {
            "tags": []
          },
          "execution_count": 361
        },
        {
          "output_type": "display_data",
          "data": {
            "image/png": "[encoded data removed]",
            "text/plain": [
              "<Figure size 432x288 with 1 Axes>"
            ]
          },
          "metadata": {
            "tags": [],
            "needs_background": "light"
          }
        }
      ]
    },
    {
      "cell_type": "code",
      "metadata": {
        "id": "g2JXd461LGJN",
        "colab_type": "code",
        "colab": {
          "base_uri": "https://localhost:8080/",
          "height": 305
        },
        "outputId": "b7bb6ebc-5db3-4f29-fb78-c2c1fe34708c"
      },
      "source": [
        "test.plot()"
      ],
      "execution_count": 362,
      "outputs": [
        {
          "output_type": "execute_result",
          "data": {
            "text/plain": [
              "<matplotlib.axes._subplots.AxesSubplot at 0x7f6bc8b0f3c8>"
            ]
          },
          "metadata": {
            "tags": []
          },
          "execution_count": 362
        },
        {
          "output_type": "display_data",
          "data": {
            "image/png": "[encoded data removed]",
            "text/plain": [
              "<Figure size 432x288 with 1 Axes>"
            ]
          },
          "metadata": {
            "tags": [],
            "needs_background": "light"
          }
        }
      ]
    },
    {
      "cell_type": "code",
      "metadata": {
        "id": "KX_gEtaAy_dl",
        "colab_type": "code",
        "colab": {}
      },
      "source": [
        ""
      ],
      "execution_count": 0,
      "outputs": []
    }
  ]
}